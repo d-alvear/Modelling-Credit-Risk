{
 "cells": [
  {
   "cell_type": "markdown",
   "metadata": {},
   "source": [
    "# Modelling Credit Risk\n",
    "## Introduction\n",
    "   In this project I will focus on credit modelling, a well known data science problem that focuses on modeling a borrower's credit risk. I'll be working with financial lending data from Lending Club. Lending Club is a marketplace for personal loans that matches borrowers who are seeking a loan with investors looking to lend money and make a return.\n",
    "\n",
    "### Lending Club Process\n",
    "Each borrower fills out an application, providing their past financial history, the reason for the loan, and more. Lending Club evaluates each borrower's credit score and past historical data to assign an interest rate to the borrower. A higher interest rate means that the borrower is riskier and more unlikely to pay back the loan while a lower interest rate means that the borrower has a good credit history is more likely to pay back the loan. Each borrower is given a grade according to the interest rate they were assigned. If the borrower accepts the interest rate, then the loan is listed on the Lending Club marketplace.\n",
    "\n",
    "Investors are primarily interested in receiveing a return on their investments. On the Lending Club marketplace, qualified investors can browse recently approved loans, the borrower's credit score, the purpose for the loan, and other information from the application. When they want to back a loan, they select the amount of money they want to fund. Once a loan's requested amount is fully funded, the borrower receives the money they requested minus the origination fee that Lending Club charges. The borrower then makes monthly payments back to Lending Club either over 36 months or over 60 months. Lending Club redistributes these payments to the investors. This means that investors don't have to wait until the full amount is paid off to start to see money back. If a loan is fully paid off on time, the investors make a return which corresponds to the interest rate the borrower had to pay in addition the requested amount. Many loans aren't completely paid off on time, however, and some borrowers default on the loan.\n",
    "### Project Scope\n",
    "While Lending Club has to be extremely savvy and rigorous with their credit modelling, investors on Lending Club need to be equally as savvy about determining which loans are more likely to be paid off. Most investors use a portfolio strategy to invest small amounts in many loans, with healthy mixes of low, medium, and interest loans. In this project, I'll focus on the mindset of a conservative investor who only wants to invest in the loans that have a good chance of being paid off on time. To do that, I'll need to first understand the features in the dataset and then experiment with building machine learning models that reliably predict if a loan will be paid off or not.\n",
    "\n",
    "## Problem Statement\n",
    "Can I build a machine learning model that can accurately predict if a borrower will pay off their loan on time or not?\n",
    "\n",
    "## Data\n",
    "Lending Club releases data for all of the approved and declined loan applications periodically on [their website](https://www.lendingclub.com/info/statistics.action). The data dictionary can be found [here](https://docs.google.com/spreadsheets/d/191B2yJ4H1ZPXq0_ByhUgWMFZOYem5jFz0Y3by_7YBY4/edit).\n",
    "\n",
    "The `LoanStats` sheet describes the approved loans datasets and the `RejectStats` describes the rejected loans datasets. Since rejected applications don't appear on the Lending Club marketplace and aren't available for investment, I'll be focusing on data on approved loans only. The approved loans datasets contain information on current loans, completed loans, and defaulted loans.\n",
    "\n",
    "I'll be focusing on approved loan data from 2007-2011 since most of the loans during this period have already been resolved. More recent datasets contain too many loans that are still in the process of being paid off.\n",
    "\n",
    "First, I'll need to explore the data to determine which features I want to use and which column represents the target I want to predict."
   ]
  },
  {
   "cell_type": "code",
   "execution_count": 1,
   "metadata": {
    "scrolled": true
   },
   "outputs": [
    {
     "name": "stderr",
     "output_type": "stream",
     "text": [
      "c:\\users\\deand\\appdata\\local\\programs\\python\\python37-32\\lib\\site-packages\\IPython\\core\\interactiveshell.py:3058: DtypeWarning: Columns (0) have mixed types. Specify dtype option on import or set low_memory=False.\n",
      "  interactivity=interactivity, compiler=compiler, result=result)\n"
     ]
    },
    {
     "data": {
      "text/html": [
       "<div>\n",
       "<style scoped>\n",
       "    .dataframe tbody tr th:only-of-type {\n",
       "        vertical-align: middle;\n",
       "    }\n",
       "\n",
       "    .dataframe tbody tr th {\n",
       "        vertical-align: top;\n",
       "    }\n",
       "\n",
       "    .dataframe thead th {\n",
       "        text-align: right;\n",
       "    }\n",
       "</style>\n",
       "<table border=\"1\" class=\"dataframe\">\n",
       "  <thead>\n",
       "    <tr style=\"text-align: right;\">\n",
       "      <th></th>\n",
       "      <th>id</th>\n",
       "      <th>member_id</th>\n",
       "      <th>loan_amnt</th>\n",
       "      <th>funded_amnt</th>\n",
       "      <th>funded_amnt_inv</th>\n",
       "      <th>term</th>\n",
       "      <th>int_rate</th>\n",
       "      <th>installment</th>\n",
       "      <th>grade</th>\n",
       "      <th>sub_grade</th>\n",
       "      <th>...</th>\n",
       "      <th>last_pymnt_amnt</th>\n",
       "      <th>last_credit_pull_d</th>\n",
       "      <th>collections_12_mths_ex_med</th>\n",
       "      <th>policy_code</th>\n",
       "      <th>application_type</th>\n",
       "      <th>acc_now_delinq</th>\n",
       "      <th>chargeoff_within_12_mths</th>\n",
       "      <th>delinq_amnt</th>\n",
       "      <th>pub_rec_bankruptcies</th>\n",
       "      <th>tax_liens</th>\n",
       "    </tr>\n",
       "  </thead>\n",
       "  <tbody>\n",
       "    <tr>\n",
       "      <td>0</td>\n",
       "      <td>1077501</td>\n",
       "      <td>1296599.0</td>\n",
       "      <td>5000.0</td>\n",
       "      <td>5000.0</td>\n",
       "      <td>4975.0</td>\n",
       "      <td>36 months</td>\n",
       "      <td>10.65%</td>\n",
       "      <td>162.87</td>\n",
       "      <td>B</td>\n",
       "      <td>B2</td>\n",
       "      <td>...</td>\n",
       "      <td>171.62</td>\n",
       "      <td>Jun-2016</td>\n",
       "      <td>0.0</td>\n",
       "      <td>1.0</td>\n",
       "      <td>INDIVIDUAL</td>\n",
       "      <td>0.0</td>\n",
       "      <td>0.0</td>\n",
       "      <td>0.0</td>\n",
       "      <td>0.0</td>\n",
       "      <td>0.0</td>\n",
       "    </tr>\n",
       "    <tr>\n",
       "      <td>1</td>\n",
       "      <td>1077430</td>\n",
       "      <td>1314167.0</td>\n",
       "      <td>2500.0</td>\n",
       "      <td>2500.0</td>\n",
       "      <td>2500.0</td>\n",
       "      <td>60 months</td>\n",
       "      <td>15.27%</td>\n",
       "      <td>59.83</td>\n",
       "      <td>C</td>\n",
       "      <td>C4</td>\n",
       "      <td>...</td>\n",
       "      <td>119.66</td>\n",
       "      <td>Sep-2013</td>\n",
       "      <td>0.0</td>\n",
       "      <td>1.0</td>\n",
       "      <td>INDIVIDUAL</td>\n",
       "      <td>0.0</td>\n",
       "      <td>0.0</td>\n",
       "      <td>0.0</td>\n",
       "      <td>0.0</td>\n",
       "      <td>0.0</td>\n",
       "    </tr>\n",
       "  </tbody>\n",
       "</table>\n",
       "<p>2 rows × 52 columns</p>\n",
       "</div>"
      ],
      "text/plain": [
       "        id  member_id  loan_amnt  funded_amnt  funded_amnt_inv        term  \\\n",
       "0  1077501  1296599.0     5000.0       5000.0           4975.0   36 months   \n",
       "1  1077430  1314167.0     2500.0       2500.0           2500.0   60 months   \n",
       "\n",
       "  int_rate  installment grade sub_grade  ... last_pymnt_amnt  \\\n",
       "0   10.65%       162.87     B        B2  ...          171.62   \n",
       "1   15.27%        59.83     C        C4  ...          119.66   \n",
       "\n",
       "  last_credit_pull_d collections_12_mths_ex_med  policy_code application_type  \\\n",
       "0           Jun-2016                        0.0          1.0       INDIVIDUAL   \n",
       "1           Sep-2013                        0.0          1.0       INDIVIDUAL   \n",
       "\n",
       "  acc_now_delinq chargeoff_within_12_mths delinq_amnt pub_rec_bankruptcies  \\\n",
       "0            0.0                      0.0         0.0                  0.0   \n",
       "1            0.0                      0.0         0.0                  0.0   \n",
       "\n",
       "  tax_liens  \n",
       "0       0.0  \n",
       "1       0.0  \n",
       "\n",
       "[2 rows x 52 columns]"
      ]
     },
     "execution_count": 1,
     "metadata": {},
     "output_type": "execute_result"
    }
   ],
   "source": [
    "import pandas as pd\n",
    "import numpy as np\n",
    "\n",
    "loans = pd.read_csv('loans_2007.csv')\n",
    "loans.head(2)"
   ]
  },
  {
   "cell_type": "code",
   "execution_count": 2,
   "metadata": {},
   "outputs": [
    {
     "data": {
      "text/plain": [
       "(42538, 52)"
      ]
     },
     "execution_count": 2,
     "metadata": {},
     "output_type": "execute_result"
    }
   ],
   "source": [
    "loans.shape"
   ]
  },
  {
   "cell_type": "markdown",
   "metadata": {},
   "source": [
    "My first concern from looking at the data is how many columns there are; I will definitely need to drop unnecessary columns to make the data more manageable. I also need to pay attention to data leakage that could cause my model to overfit. Data leakage would be any columns that indicate the loan has been funded.\n",
    "\n",
    "### Data Cleaning\n",
    "I will start by removing columns that are either unnecessary or that cause data leakage. Since there are so many columns, I'll have to break them into sections to drop.\n",
    "\n",
    "First section:\n",
    "\n",
    "|name\t|dtype\t|first value\t|description|\n",
    "|---|---|---|---|\n",
    "id\t|object|\t1077501\t|A unique LC assigned ID for the loan listing.\n",
    "member_id|\tfloat64|\t1.2966e+06|\tA unique LC assigned Id for the borrower member.\n",
    "loan_amnt|\tfloat64|\t5000|\tThe listed amount of the loan applied for by the borrower.\n",
    "funded_amnt|\tfloat64|\t5000|\tThe total amount committed to that loan at that point in time.\n",
    "funded_amnt_inv|\tfloat64|\t49750|\tThe total amount committed by investors for that loan at that point in time.\n",
    "term|\tobject|\t36 months|\tThe number of payments on the loan. Values are in months and can be either 36 or 60.\n",
    "int_rate|\tobject|\t10.65%|\tInterest Rate on the loan\n",
    "installment|\tfloat64|\t162.87|\tThe monthly payment owed by the borrower if the loan originates.\n",
    "grade|\tobject|\tB|\tLC assigned loan grade\n",
    "sub_grade|\tobject|\tB2|\tLC assigned loan subgrade\n",
    "emp_title|\tobject|\tNaN|\tThe job title supplied by the Borrower when applying for the loan.\n",
    "emp_length|\tobject|\t10+ years|\tEmployment length in years. Possible values are between 0 and 10 where 0 means less than one year and 10 means ten or more years.\n",
    "home_ownership|\tobject|\tRENT|\tThe home ownership status provided by the borrower during registration. Our values are: RENT, OWN, MORTGAGE, OTHER.\n",
    "annual_inc|\tfloat64|\t24000|\tThe self-reported annual income provided by the borrower during registration.\n",
    "verification_status|\tobject|\tVerified|\tIndicates if income was verified by LC, not verified, or if the income source was verified\n",
    "issue_d|\tobject|\tDec-2011|\tThe month which the loan was funded\n",
    "loan_status|\tobject|\tCharged Off|\tCurrent status of the loan\n",
    "pymnt_plan|\tobject|\tn|\tIndicates if a payment plan has been put in place for the loan\n",
    "purpose|\tobject|\tcar|\tA category provided by the borrower for the loan request.\n",
    "\n"
   ]
  },
  {
   "cell_type": "code",
   "execution_count": 3,
   "metadata": {},
   "outputs": [
    {
     "data": {
      "text/plain": [
       "Index(['loan_amnt', 'term', 'int_rate', 'installment', 'emp_length',\n",
       "       'home_ownership', 'annual_inc', 'verification_status', 'loan_status',\n",
       "       'pymnt_plan', 'purpose', 'title', 'zip_code', 'addr_state', 'dti',\n",
       "       'delinq_2yrs', 'earliest_cr_line', 'inq_last_6mths', 'open_acc',\n",
       "       'pub_rec', 'revol_bal', 'revol_util', 'total_acc',\n",
       "       'initial_list_status', 'out_prncp', 'out_prncp_inv', 'total_pymnt',\n",
       "       'total_pymnt_inv', 'total_rec_prncp', 'total_rec_int',\n",
       "       'total_rec_late_fee', 'recoveries', 'collection_recovery_fee',\n",
       "       'last_pymnt_d', 'last_pymnt_amnt', 'last_credit_pull_d',\n",
       "       'collections_12_mths_ex_med', 'policy_code', 'application_type',\n",
       "       'acc_now_delinq', 'chargeoff_within_12_mths', 'delinq_amnt',\n",
       "       'pub_rec_bankruptcies', 'tax_liens'],\n",
       "      dtype='object')"
      ]
     },
     "execution_count": 3,
     "metadata": {},
     "output_type": "execute_result"
    }
   ],
   "source": [
    "cols = ['id','member_id','funded_amnt','funded_amnt_inv','grade',\n",
    "        'sub_grade','emp_title','issue_d']\n",
    "loans = loans.drop(cols, axis=1)\n",
    "loans.columns"
   ]
  },
  {
   "cell_type": "markdown",
   "metadata": {},
   "source": [
    "Using the same method and criteria for dropping columns, I will continue to drop the rest of the necessary columns."
   ]
  },
  {
   "cell_type": "code",
   "execution_count": 4,
   "metadata": {},
   "outputs": [
    {
     "data": {
      "text/html": [
       "<div>\n",
       "<style scoped>\n",
       "    .dataframe tbody tr th:only-of-type {\n",
       "        vertical-align: middle;\n",
       "    }\n",
       "\n",
       "    .dataframe tbody tr th {\n",
       "        vertical-align: top;\n",
       "    }\n",
       "\n",
       "    .dataframe thead th {\n",
       "        text-align: right;\n",
       "    }\n",
       "</style>\n",
       "<table border=\"1\" class=\"dataframe\">\n",
       "  <thead>\n",
       "    <tr style=\"text-align: right;\">\n",
       "      <th></th>\n",
       "      <th>loan_amnt</th>\n",
       "      <th>term</th>\n",
       "      <th>int_rate</th>\n",
       "      <th>installment</th>\n",
       "      <th>emp_length</th>\n",
       "      <th>home_ownership</th>\n",
       "      <th>annual_inc</th>\n",
       "      <th>verification_status</th>\n",
       "      <th>loan_status</th>\n",
       "      <th>pymnt_plan</th>\n",
       "      <th>...</th>\n",
       "      <th>initial_list_status</th>\n",
       "      <th>last_credit_pull_d</th>\n",
       "      <th>collections_12_mths_ex_med</th>\n",
       "      <th>policy_code</th>\n",
       "      <th>application_type</th>\n",
       "      <th>acc_now_delinq</th>\n",
       "      <th>chargeoff_within_12_mths</th>\n",
       "      <th>delinq_amnt</th>\n",
       "      <th>pub_rec_bankruptcies</th>\n",
       "      <th>tax_liens</th>\n",
       "    </tr>\n",
       "  </thead>\n",
       "  <tbody>\n",
       "    <tr>\n",
       "      <td>0</td>\n",
       "      <td>5000.0</td>\n",
       "      <td>36 months</td>\n",
       "      <td>10.65%</td>\n",
       "      <td>162.87</td>\n",
       "      <td>10+ years</td>\n",
       "      <td>RENT</td>\n",
       "      <td>24000.0</td>\n",
       "      <td>Verified</td>\n",
       "      <td>Fully Paid</td>\n",
       "      <td>n</td>\n",
       "      <td>...</td>\n",
       "      <td>f</td>\n",
       "      <td>Jun-2016</td>\n",
       "      <td>0.0</td>\n",
       "      <td>1.0</td>\n",
       "      <td>INDIVIDUAL</td>\n",
       "      <td>0.0</td>\n",
       "      <td>0.0</td>\n",
       "      <td>0.0</td>\n",
       "      <td>0.0</td>\n",
       "      <td>0.0</td>\n",
       "    </tr>\n",
       "    <tr>\n",
       "      <td>1</td>\n",
       "      <td>2500.0</td>\n",
       "      <td>60 months</td>\n",
       "      <td>15.27%</td>\n",
       "      <td>59.83</td>\n",
       "      <td>&lt; 1 year</td>\n",
       "      <td>RENT</td>\n",
       "      <td>30000.0</td>\n",
       "      <td>Source Verified</td>\n",
       "      <td>Charged Off</td>\n",
       "      <td>n</td>\n",
       "      <td>...</td>\n",
       "      <td>f</td>\n",
       "      <td>Sep-2013</td>\n",
       "      <td>0.0</td>\n",
       "      <td>1.0</td>\n",
       "      <td>INDIVIDUAL</td>\n",
       "      <td>0.0</td>\n",
       "      <td>0.0</td>\n",
       "      <td>0.0</td>\n",
       "      <td>0.0</td>\n",
       "      <td>0.0</td>\n",
       "    </tr>\n",
       "    <tr>\n",
       "      <td>2</td>\n",
       "      <td>2400.0</td>\n",
       "      <td>36 months</td>\n",
       "      <td>15.96%</td>\n",
       "      <td>84.33</td>\n",
       "      <td>10+ years</td>\n",
       "      <td>RENT</td>\n",
       "      <td>12252.0</td>\n",
       "      <td>Not Verified</td>\n",
       "      <td>Fully Paid</td>\n",
       "      <td>n</td>\n",
       "      <td>...</td>\n",
       "      <td>f</td>\n",
       "      <td>Jun-2016</td>\n",
       "      <td>0.0</td>\n",
       "      <td>1.0</td>\n",
       "      <td>INDIVIDUAL</td>\n",
       "      <td>0.0</td>\n",
       "      <td>0.0</td>\n",
       "      <td>0.0</td>\n",
       "      <td>0.0</td>\n",
       "      <td>0.0</td>\n",
       "    </tr>\n",
       "    <tr>\n",
       "      <td>3</td>\n",
       "      <td>10000.0</td>\n",
       "      <td>36 months</td>\n",
       "      <td>13.49%</td>\n",
       "      <td>339.31</td>\n",
       "      <td>10+ years</td>\n",
       "      <td>RENT</td>\n",
       "      <td>49200.0</td>\n",
       "      <td>Source Verified</td>\n",
       "      <td>Fully Paid</td>\n",
       "      <td>n</td>\n",
       "      <td>...</td>\n",
       "      <td>f</td>\n",
       "      <td>Apr-2016</td>\n",
       "      <td>0.0</td>\n",
       "      <td>1.0</td>\n",
       "      <td>INDIVIDUAL</td>\n",
       "      <td>0.0</td>\n",
       "      <td>0.0</td>\n",
       "      <td>0.0</td>\n",
       "      <td>0.0</td>\n",
       "      <td>0.0</td>\n",
       "    </tr>\n",
       "    <tr>\n",
       "      <td>4</td>\n",
       "      <td>3000.0</td>\n",
       "      <td>60 months</td>\n",
       "      <td>12.69%</td>\n",
       "      <td>67.79</td>\n",
       "      <td>1 year</td>\n",
       "      <td>RENT</td>\n",
       "      <td>80000.0</td>\n",
       "      <td>Source Verified</td>\n",
       "      <td>Current</td>\n",
       "      <td>n</td>\n",
       "      <td>...</td>\n",
       "      <td>f</td>\n",
       "      <td>Jun-2016</td>\n",
       "      <td>0.0</td>\n",
       "      <td>1.0</td>\n",
       "      <td>INDIVIDUAL</td>\n",
       "      <td>0.0</td>\n",
       "      <td>0.0</td>\n",
       "      <td>0.0</td>\n",
       "      <td>0.0</td>\n",
       "      <td>0.0</td>\n",
       "    </tr>\n",
       "  </tbody>\n",
       "</table>\n",
       "<p>5 rows × 32 columns</p>\n",
       "</div>"
      ],
      "text/plain": [
       "   loan_amnt        term int_rate  installment emp_length home_ownership  \\\n",
       "0     5000.0   36 months   10.65%       162.87  10+ years           RENT   \n",
       "1     2500.0   60 months   15.27%        59.83   < 1 year           RENT   \n",
       "2     2400.0   36 months   15.96%        84.33  10+ years           RENT   \n",
       "3    10000.0   36 months   13.49%       339.31  10+ years           RENT   \n",
       "4     3000.0   60 months   12.69%        67.79     1 year           RENT   \n",
       "\n",
       "   annual_inc verification_status  loan_status pymnt_plan  ...  \\\n",
       "0     24000.0            Verified   Fully Paid          n  ...   \n",
       "1     30000.0     Source Verified  Charged Off          n  ...   \n",
       "2     12252.0        Not Verified   Fully Paid          n  ...   \n",
       "3     49200.0     Source Verified   Fully Paid          n  ...   \n",
       "4     80000.0     Source Verified      Current          n  ...   \n",
       "\n",
       "  initial_list_status last_credit_pull_d collections_12_mths_ex_med  \\\n",
       "0                   f           Jun-2016                        0.0   \n",
       "1                   f           Sep-2013                        0.0   \n",
       "2                   f           Jun-2016                        0.0   \n",
       "3                   f           Apr-2016                        0.0   \n",
       "4                   f           Jun-2016                        0.0   \n",
       "\n",
       "   policy_code  application_type acc_now_delinq  chargeoff_within_12_mths  \\\n",
       "0          1.0        INDIVIDUAL            0.0                       0.0   \n",
       "1          1.0        INDIVIDUAL            0.0                       0.0   \n",
       "2          1.0        INDIVIDUAL            0.0                       0.0   \n",
       "3          1.0        INDIVIDUAL            0.0                       0.0   \n",
       "4          1.0        INDIVIDUAL            0.0                       0.0   \n",
       "\n",
       "   delinq_amnt  pub_rec_bankruptcies  tax_liens  \n",
       "0          0.0                   0.0        0.0  \n",
       "1          0.0                   0.0        0.0  \n",
       "2          0.0                   0.0        0.0  \n",
       "3          0.0                   0.0        0.0  \n",
       "4          0.0                   0.0        0.0  \n",
       "\n",
       "[5 rows x 32 columns]"
      ]
     },
     "execution_count": 4,
     "metadata": {},
     "output_type": "execute_result"
    }
   ],
   "source": [
    "cols = ['zip_code','out_prncp','out_prncp_inv','total_pymnt',\n",
    "        'total_pymnt_inv','total_rec_prncp','total_rec_int',\n",
    "       'total_rec_late_fee','recoveries','collection_recovery_fee',\n",
    "       'last_pymnt_d','last_pymnt_amnt']\n",
    "loans = loans.drop(cols, axis=1)\n",
    "loans.head()"
   ]
  },
  {
   "cell_type": "markdown",
   "metadata": {},
   "source": [
    "#### Target Column\n",
    "I will use the `loan_status` as my target to model since it is the only column that indicates whether a loan was paid off on time. However, since the data in this column is string type, I'll have to convert it to numeric. First I'll explore the values in the column so I can decide the best way to convert the values."
   ]
  },
  {
   "cell_type": "code",
   "execution_count": 5,
   "metadata": {},
   "outputs": [
    {
     "data": {
      "text/plain": [
       "Fully Paid                                             33136\n",
       "Charged Off                                             5634\n",
       "Does not meet the credit policy. Status:Fully Paid      1988\n",
       "Current                                                  961\n",
       "Does not meet the credit policy. Status:Charged Off      761\n",
       "Late (31-120 days)                                        24\n",
       "In Grace Period                                           20\n",
       "Late (16-30 days)                                          8\n",
       "Default                                                    3\n",
       "Name: loan_status, dtype: int64"
      ]
     },
     "execution_count": 5,
     "metadata": {},
     "output_type": "execute_result"
    }
   ],
   "source": [
    "loans['loan_status'].value_counts()"
   ]
  },
  {
   "cell_type": "markdown",
   "metadata": {},
   "source": [
    "Here is the description for the entries above:\n",
    "\n",
    "|Loan Status|\tCount|\tMeaning|\n",
    "|-----------|--------|---------|\n",
    "Fully Paid\t|33136\t|Loan has been fully paid off.\n",
    "Charged Off\t|5634|\tLoan for which there is no longer a reasonable expectation of further payments.\n",
    "Does not meet the credit policy. Status:Fully Paid\t|1988|\tWhile the loan was paid off, the loan application today would no longer meet the credit policy and wouldn't be approved on to the marketplace.\n",
    "Does not meet the credit policy. Status:Charged Off\t|761|\tWhile the loan was charged off, the loan application today would no longer meet the credit policy and wouldn't be approved on to the marketplace.\n",
    "In Grace Period\t|20|\tThe loan is past due but still in the grace period of 15 days.\n",
    "Late (16-30 days)\t|8|\tLoan hasn't been paid in 16 to 30 days (late on the current payment).\n",
    "Late (31-120 days)\t|24|\tLoan hasn't been paid in 31 to 120 days (late on the current payment).\n",
    "Current\t|961|\tLoan is up to date on current payments.\n",
    "Default\t|3|\tLoan is defaulted on and no payment has been made for more than 121 days.\n",
    "\n",
    "Since I am taking the perspective of an investor, I am interested in trying to predict which loan will be paid off on time and which ones will not. Only the 'Fully Paid' and 'Charged Off' values describe the final outcome of the loan. The other values describe loans that are still on going and unknown if the borrower will pay back the loan on time or not. While the 'Default' status resembles the 'Charged Off' status, in Lending Club's eyes, loans that are charged off have essentially no chance of being repaid while default ones have a small chance.\n",
    "\n",
    "#### Cleaning the Target Column\n",
    "Since my main interest is in the whether a loan will be paid off or not, I am only concerned with the 'Fully Paid' and 'Charged Off' status.  I will use binary classification to transform 'Fully Paid' to `1` and 'Charged Off' to `0`. However, I also want to keep in mind the issue of class imbalance, which results in the model favoring either the positive or negative class.\n",
    "\n",
    "To clean the target column I will drop any rows where `loan_status` is not `Fully Paid` or `Charged Off`. Then I will replace these two values with `1` or `0`."
   ]
  },
  {
   "cell_type": "code",
   "execution_count": 10,
   "metadata": {},
   "outputs": [],
   "source": [
    "#dropping rows\n",
    "criteria = loans[(loans['loan_status'] != 'Fully Paid') & \n",
    "                 (loans['loan_status'] != 'Charged Off')].index \n",
    "loans = loans.drop(criteria)\n",
    "#replace values\n",
    "replace = {\n",
    "    'loan_status': {\n",
    "        'Fully Paid': 1,\n",
    "        'Charged Off': 0\n",
    "    }\n",
    "}\n",
    "loans = loans.replace(replace)"
   ]
  },
  {
   "cell_type": "markdown",
   "metadata": {},
   "source": [
    "#### Removing Single Value Columns\n",
    "Columns in the dataset with only one unique value won't be useful for the model since they don't add any information to the loan applications."
   ]
  },
  {
   "cell_type": "code",
   "execution_count": 11,
   "metadata": {},
   "outputs": [
    {
     "name": "stdout",
     "output_type": "stream",
     "text": [
      "['pymnt_plan', 'initial_list_status', 'collections_12_mths_ex_med', 'policy_code', 'application_type', 'acc_now_delinq', 'chargeoff_within_12_mths', 'delinq_amnt', 'tax_liens']\n"
     ]
    }
   ],
   "source": [
    "#find the number of unique values in each column\n",
    "drop_columns = []\n",
    "\n",
    "for col in loans.columns:\n",
    "    loans[col].dropna(inplace=True)\n",
    "    unique = loans[col].unique()\n",
    "    num_unique = len(unique)\n",
    "    \n",
    "    if num_unique == 1:\n",
    "        drop_columns.append(col)\n",
    "    else:\n",
    "        pass\n",
    "    \n",
    "loans = loans.drop(drop_columns, axis=1)\n",
    "print(drop_columns)"
   ]
  },
  {
   "cell_type": "markdown",
   "metadata": {},
   "source": [
    "It looks like I was able to remove nine more columns from the dataframe. Now that I'm finished with cleaning the data I will export the cleaned dataframe as a csv for backup purposes."
   ]
  },
  {
   "cell_type": "code",
   "execution_count": 12,
   "metadata": {},
   "outputs": [],
   "source": [
    "loans.to_csv(r'loans_clean.csv',index=False)"
   ]
  },
  {
   "cell_type": "markdown",
   "metadata": {},
   "source": [
    "## Preparing the Features\n",
    "Now that the dataset has been cleaned, I can start preparing the data for machine learning by:\n",
    "\n",
    "* handling missing values\n",
    "* converting categorical types to numerical\n",
    "* remove any other unnecessary columns I encounter\n",
    "\n",
    "Resolving these issues is important because the mathematics underlying most machine learning models assume the data is numerical and contains no missing values.\n",
    "\n",
    "### Handling Missing Values"
   ]
  },
  {
   "cell_type": "code",
   "execution_count": 18,
   "metadata": {},
   "outputs": [
    {
     "data": {
      "text/plain": [
       "(loan_amnt                  0\n",
       " term                       0\n",
       " int_rate                   0\n",
       " installment                0\n",
       " emp_length              1036\n",
       " home_ownership             0\n",
       " annual_inc                 0\n",
       " verification_status        0\n",
       " loan_status                0\n",
       " purpose                    0\n",
       " title                     11\n",
       " addr_state                 0\n",
       " dti                        0\n",
       " delinq_2yrs                0\n",
       " earliest_cr_line           0\n",
       " inq_last_6mths             0\n",
       " open_acc                   0\n",
       " pub_rec                    0\n",
       " revol_bal                  0\n",
       " revol_util                50\n",
       " total_acc                  0\n",
       " last_credit_pull_d         2\n",
       " pub_rec_bankruptcies     697\n",
       " dtype: int64, 38770)"
      ]
     },
     "execution_count": 18,
     "metadata": {},
     "output_type": "execute_result"
    }
   ],
   "source": [
    "null_counts = loans.isnull().sum()\n",
    "null_counts, loans.shape[0]"
   ]
  },
  {
   "cell_type": "markdown",
   "metadata": {},
   "source": [
    "It appears that most columns in the dataframe do not contain any missing values. However there are 5 columns that do, 2 of which contain a large amount."
   ]
  }
 ],
 "metadata": {
  "kernelspec": {
   "display_name": "Python 3",
   "language": "python",
   "name": "python3"
  },
  "language_info": {
   "codemirror_mode": {
    "name": "ipython",
    "version": 3
   },
   "file_extension": ".py",
   "mimetype": "text/x-python",
   "name": "python",
   "nbconvert_exporter": "python",
   "pygments_lexer": "ipython3",
   "version": "3.7.4"
  }
 },
 "nbformat": 4,
 "nbformat_minor": 2
}
