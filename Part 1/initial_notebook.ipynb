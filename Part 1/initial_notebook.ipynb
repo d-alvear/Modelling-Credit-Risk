{
 "cells": [
  {
   "cell_type": "markdown",
   "metadata": {},
   "source": [
    "# Modelling Credit Risk\n",
    "## Introduction\n",
    "   In this project I will focus on credit modelling, a well known data science problem that focuses on modeling a borrower's credit risk. I'll be working with financial lending data from Lending Club. Lending Club is a marketplace for personal loans that matches borrowers who are seeking a loan with investors looking to lend money and make a return.\n",
    "\n",
    "### Lending Club Process\n",
    "Each borrower fills out an application, providing their past financial history, the reason for the loan, and more. Lending Club evaluates each borrower's credit score and past historical data to assign an interest rate to the borrower. A higher interest rate means that the borrower is riskier and more unlikely to pay back the loan while a lower interest rate means that the borrower has a good credit history is more likely to pay back the loan. Each borrower is given a grade according to the interest rate they were assigned. If the borrower accepts the interest rate, then the loan is listed on the Lending Club marketplace.\n",
    "\n",
    "Investors are primarily interested in receiveing a return on their investments. On the Lending Club marketplace, qualified investors can browse recently approved loans, the borrower's credit score, the purpose for the loan, and other information from the application. When they want to back a loan, they select the amount of money they want to fund. Once a loan's requested amount is fully funded, the borrower receives the money they requested minus the origination fee that Lending Club charges. The borrower then makes monthly payments back to Lending Club either over 36 months or over 60 months. Lending Club redistributes these payments to the investors. This means that investors don't have to wait until the full amount is paid off to start to see money back. If a loan is fully paid off on time, the investors make a return which corresponds to the interest rate the borrower had to pay in addition the requested amount. Many loans aren't completely paid off on time, however, and some borrowers default on the loan.\n",
    "### Project Scope\n",
    "While Lending Club has to be extremely savvy and rigorous with their credit modelling, investors on Lending Club need to be equally as savvy about determining which loans are more likely to be paid off. Most investors use a portfolio strategy to invest small amounts in many loans, with healthy mixes of low, medium, and interest loans. In this project, I'll focus on the mindset of a conservative investor who only wants to invest in the loans that have a good chance of being paid off on time. To do that, I'll need to first understand the features in the dataset and then experiment with building machine learning models that reliably predict if a loan will be paid off or not.\n",
    "\n",
    "## Problem Statement\n",
    "Can I build a machine learning model that can accurately predict if a borrower will pay off their loan on time or not?\n",
    "\n",
    "## Data\n",
    "Lending Club releases data for all of the approved and declined loan applications periodically on [their website](https://www.lendingclub.com/info/statistics.action). The data dictionary can be found [here](https://docs.google.com/spreadsheets/d/191B2yJ4H1ZPXq0_ByhUgWMFZOYem5jFz0Y3by_7YBY4/edit).\n",
    "\n",
    "The `LoanStats` sheet describes the approved loans datasets and the `RejectStats` describes the rejected loans datasets. Since rejected applications don't appear on the Lending Club marketplace and aren't available for investment, I'll be focusing on data on approved loans only. The approved loans datasets contain information on current loans, completed loans, and defaulted loans.\n",
    "\n",
    "I'll be focusing on approved loan data from 2007-2011 since most of the loans during this period have already been resolved. More recent datasets contain too many loans that are still in the process of being paid off.\n",
    "\n",
    "First, I'll need to explore the data to determine which features I want to use and which column represents the target I want to predict."
   ]
  },
  {
   "cell_type": "code",
   "execution_count": 4,
   "metadata": {},
   "outputs": [
    {
     "data": {
      "text/plain": [
       "((42538, 52),\n",
       "         id  member_id  loan_amnt  funded_amnt  funded_amnt_inv        term  \\\n",
       " 0  1077501  1296599.0     5000.0       5000.0           4975.0   36 months   \n",
       " 1  1077430  1314167.0     2500.0       2500.0           2500.0   60 months   \n",
       " \n",
       "   int_rate  installment grade sub_grade  ... last_pymnt_amnt  \\\n",
       " 0   10.65%       162.87     B        B2  ...          171.62   \n",
       " 1   15.27%        59.83     C        C4  ...          119.66   \n",
       " \n",
       "   last_credit_pull_d collections_12_mths_ex_med  policy_code application_type  \\\n",
       " 0           Jun-2016                        0.0          1.0       INDIVIDUAL   \n",
       " 1           Sep-2013                        0.0          1.0       INDIVIDUAL   \n",
       " \n",
       "   acc_now_delinq chargeoff_within_12_mths delinq_amnt pub_rec_bankruptcies  \\\n",
       " 0            0.0                      0.0         0.0                  0.0   \n",
       " 1            0.0                      0.0         0.0                  0.0   \n",
       " \n",
       "   tax_liens  \n",
       " 0       0.0  \n",
       " 1       0.0  \n",
       " \n",
       " [2 rows x 52 columns])"
      ]
     },
     "execution_count": 4,
     "metadata": {},
     "output_type": "execute_result"
    }
   ],
   "source": [
    "import pandas as pd\n",
    "import numpy as np\n",
    "\n",
    "loans = pd.read_csv('loans_2007.csv')\n",
    "loans.shape, loans.head(2)"
   ]
  },
  {
   "cell_type": "code",
   "execution_count": null,
   "metadata": {},
   "outputs": [],
   "source": []
  }
 ],
 "metadata": {
  "kernelspec": {
   "display_name": "Python 3",
   "language": "python",
   "name": "python3"
  },
  "language_info": {
   "codemirror_mode": {
    "name": "ipython",
    "version": 3
   },
   "file_extension": ".py",
   "mimetype": "text/x-python",
   "name": "python",
   "nbconvert_exporter": "python",
   "pygments_lexer": "ipython3",
   "version": "3.7.4"
  }
 },
 "nbformat": 4,
 "nbformat_minor": 2
}
